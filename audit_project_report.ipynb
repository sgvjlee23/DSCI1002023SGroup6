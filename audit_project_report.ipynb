{
 "cells": [
  {
   "cell_type": "code",
   "execution_count": 1,
   "id": "b4454597-a87f-4c37-83ba-c7c46e15cb0d",
   "metadata": {},
   "outputs": [
    {
     "name": "stderr",
     "output_type": "stream",
     "text": [
      "── \u001b[1mAttaching packages\u001b[22m ─────────────────────────────────────── tidyverse 1.3.1 ──\n",
      "\n",
      "\u001b[32m✔\u001b[39m \u001b[34mggplot2\u001b[39m 3.3.6     \u001b[32m✔\u001b[39m \u001b[34mpurrr  \u001b[39m 0.3.4\n",
      "\u001b[32m✔\u001b[39m \u001b[34mtibble \u001b[39m 3.1.7     \u001b[32m✔\u001b[39m \u001b[34mdplyr  \u001b[39m 1.0.9\n",
      "\u001b[32m✔\u001b[39m \u001b[34mtidyr  \u001b[39m 1.2.0     \u001b[32m✔\u001b[39m \u001b[34mstringr\u001b[39m 1.4.0\n",
      "\u001b[32m✔\u001b[39m \u001b[34mreadr  \u001b[39m 2.1.2     \u001b[32m✔\u001b[39m \u001b[34mforcats\u001b[39m 0.5.1\n",
      "\n",
      "── \u001b[1mConflicts\u001b[22m ────────────────────────────────────────── tidyverse_conflicts() ──\n",
      "\u001b[31m✖\u001b[39m \u001b[34mdplyr\u001b[39m::\u001b[32mfilter()\u001b[39m masks \u001b[34mstats\u001b[39m::filter()\n",
      "\u001b[31m✖\u001b[39m \u001b[34mdplyr\u001b[39m::\u001b[32mlag()\u001b[39m    masks \u001b[34mstats\u001b[39m::lag()\n",
      "\n",
      "── \u001b[1mAttaching packages\u001b[22m ────────────────────────────────────── tidymodels 1.0.0 ──\n",
      "\n",
      "\u001b[32m✔\u001b[39m \u001b[34mbroom       \u001b[39m 1.0.0     \u001b[32m✔\u001b[39m \u001b[34mrsample     \u001b[39m 1.0.0\n",
      "\u001b[32m✔\u001b[39m \u001b[34mdials       \u001b[39m 1.0.0     \u001b[32m✔\u001b[39m \u001b[34mtune        \u001b[39m 1.0.0\n",
      "\u001b[32m✔\u001b[39m \u001b[34minfer       \u001b[39m 1.0.2     \u001b[32m✔\u001b[39m \u001b[34mworkflows   \u001b[39m 1.0.0\n",
      "\u001b[32m✔\u001b[39m \u001b[34mmodeldata   \u001b[39m 1.0.0     \u001b[32m✔\u001b[39m \u001b[34mworkflowsets\u001b[39m 1.0.0\n",
      "\u001b[32m✔\u001b[39m \u001b[34mparsnip     \u001b[39m 1.0.0     \u001b[32m✔\u001b[39m \u001b[34myardstick   \u001b[39m 1.0.0\n",
      "\u001b[32m✔\u001b[39m \u001b[34mrecipes     \u001b[39m 1.0.1     \n",
      "\n",
      "── \u001b[1mConflicts\u001b[22m ───────────────────────────────────────── tidymodels_conflicts() ──\n",
      "\u001b[31m✖\u001b[39m \u001b[34mscales\u001b[39m::\u001b[32mdiscard()\u001b[39m masks \u001b[34mpurrr\u001b[39m::discard()\n",
      "\u001b[31m✖\u001b[39m \u001b[34mdplyr\u001b[39m::\u001b[32mfilter()\u001b[39m   masks \u001b[34mstats\u001b[39m::filter()\n",
      "\u001b[31m✖\u001b[39m \u001b[34mrecipes\u001b[39m::\u001b[32mfixed()\u001b[39m  masks \u001b[34mstringr\u001b[39m::fixed()\n",
      "\u001b[31m✖\u001b[39m \u001b[34mdplyr\u001b[39m::\u001b[32mlag()\u001b[39m      masks \u001b[34mstats\u001b[39m::lag()\n",
      "\u001b[31m✖\u001b[39m \u001b[34myardstick\u001b[39m::\u001b[32mspec()\u001b[39m masks \u001b[34mreadr\u001b[39m::spec()\n",
      "\u001b[31m✖\u001b[39m \u001b[34mrecipes\u001b[39m::\u001b[32mstep()\u001b[39m   masks \u001b[34mstats\u001b[39m::step()\n",
      "\u001b[34m•\u001b[39m Use suppressPackageStartupMessages() to eliminate package startup messages\n",
      "\n",
      "Warning message in file(filename, \"r\", encoding = encoding):\n",
      "“cannot open file 'cleanup.R': No such file or directory”\n"
     ]
    },
    {
     "ename": "ERROR",
     "evalue": "Error in file(filename, \"r\", encoding = encoding): cannot open the connection\n",
     "output_type": "error",
     "traceback": [
      "Error in file(filename, \"r\", encoding = encoding): cannot open the connection\nTraceback:\n",
      "1. source(\"cleanup.R\")",
      "2. file(filename, \"r\", encoding = encoding)"
     ]
    }
   ],
   "source": [
    "library(tidyverse)\n",
    "library(repr)\n",
    "library(tidymodels)\n",
    "source('cleanup.R')"
   ]
  },
  {
   "cell_type": "markdown",
   "id": "4b05ee19-e5fe-4628-943f-d547730943c9",
   "metadata": {},
   "source": [
    "Title: Predicting Corporate Fraud Risks"
   ]
  },
  {
   "cell_type": "markdown",
   "id": "a47c423b-d4c4-4352-9fb0-e1009e8c0705",
   "metadata": {},
   "source": [
    "This project aims to predict a firm's potential for fraudulent behavior by analyzing both current and historical risk factors. Our goal is to develop a robust model capable of distinguishing between firms likely to engage in fraudulent activity and those unlikely to do so, based on their past and present financial activities.\n",
    "\n",
    "Fraud typically involves deceptive maneuvers such as the manipulation or misrepresentation of financial data to secure unlawful gains. To facilitate an accurate classification, we're using the Trial dataset, which offers a rich mix of current inherent risk factors and historical control risk factors."
   ]
  },
  {
   "cell_type": "code",
   "execution_count": 2,
   "id": "b4ebb087-a72d-4b92-be7e-69bf7483103a",
   "metadata": {},
   "outputs": [
    {
     "name": "stderr",
     "output_type": "stream",
     "text": [
      "\u001b[1mRows: \u001b[22m\u001b[34m776\u001b[39m \u001b[1mColumns: \u001b[22m\u001b[34m18\u001b[39m\n",
      "\u001b[36m──\u001b[39m \u001b[1mColumn specification\u001b[22m \u001b[36m────────────────────────────────────────────────────────\u001b[39m\n",
      "\u001b[1mDelimiter:\u001b[22m \",\"\n",
      "\u001b[31mchr\u001b[39m  (1): LOCATION_ID\n",
      "\u001b[32mdbl\u001b[39m (17): Sector_score, PARA_A, SCORE_A, PARA_B, SCORE_B, TOTAL, numbers, Ma...\n",
      "\n",
      "\u001b[36mℹ\u001b[39m Use `spec()` to retrieve the full column specification for this data.\n",
      "\u001b[36mℹ\u001b[39m Specify the column types or set `show_col_types = FALSE` to quiet this message.\n"
     ]
    }
   ],
   "source": [
    "set.seed(168)\n",
    "read_csv(\"https://raw.githubusercontent.com/sgvjlee23/DSCI1002023SGroup6/main/trial.csv\") -> trial\n",
    "trial|>\n",
    "    mutate (Risk = as_factor (Risk)) -> trial"
   ]
  },
  {
   "cell_type": "markdown",
   "id": "056158b9-1267-4d0d-90bb-2213a96fd080",
   "metadata": {},
   "source": [
    "We have read the dataset, \"trial\", from the web into R. Since the delimitter for this dataset is a comma, we have chosen the function, \"read_csv\", to load the dataset."
   ]
  },
  {
   "cell_type": "code",
   "execution_count": 3,
   "id": "d95b17d8-10c7-449d-93ab-6430f8cc1c42",
   "metadata": {},
   "outputs": [
    {
     "data": {
      "text/html": [
       "<table class=\"dataframe\">\n",
       "<caption>A tibble: 2 × 2</caption>\n",
       "<thead>\n",
       "\t<tr><th scope=col>Risk</th><th scope=col>count</th></tr>\n",
       "\t<tr><th scope=col>&lt;fct&gt;</th><th scope=col>&lt;int&gt;</th></tr>\n",
       "</thead>\n",
       "<tbody>\n",
       "\t<tr><td>0</td><td>290</td></tr>\n",
       "\t<tr><td>1</td><td>486</td></tr>\n",
       "</tbody>\n",
       "</table>\n"
      ],
      "text/latex": [
       "A tibble: 2 × 2\n",
       "\\begin{tabular}{ll}\n",
       " Risk & count\\\\\n",
       " <fct> & <int>\\\\\n",
       "\\hline\n",
       "\t 0 & 290\\\\\n",
       "\t 1 & 486\\\\\n",
       "\\end{tabular}\n"
      ],
      "text/markdown": [
       "\n",
       "A tibble: 2 × 2\n",
       "\n",
       "| Risk &lt;fct&gt; | count &lt;int&gt; |\n",
       "|---|---|\n",
       "| 0 | 290 |\n",
       "| 1 | 486 |\n",
       "\n"
      ],
      "text/plain": [
       "  Risk count\n",
       "1 0    290  \n",
       "2 1    486  "
      ]
     },
     "metadata": {},
     "output_type": "display_data"
    }
   ],
   "source": [
    "fraud_count <- trial |>\n",
    "                group_by (Risk) |>\n",
    "                summarize (count = n())\n",
    "fraud_count"
   ]
  },
  {
   "cell_type": "markdown",
   "id": "3a4fd19c-1969-4f8f-8de7-a6006563574f",
   "metadata": {},
   "source": [
    "Prior to spliting the dataset, we will first use the \"group_by\" and \"summarize\" functions to find out the proportion of the class we intend to classify, so that it can allow us to make sure the same proportions will be adopted in both training and testing dataset. And we have discovered that there are 217 firms that do not have the risk for fradulent acts, and there are 364 firms that do. In other words, 37% of the firms are non-fradulent, and 63% are."
   ]
  },
  {
   "cell_type": "markdown",
   "id": "feafcde9-f7e6-411c-bdac-70bd566965ce",
   "metadata": {},
   "source": [
    "Below, we have splited the dataset, \"trial\", into a training and testing dataset. And based on the summary table above, we have set prop = 0.63 since 63% of firms in the original dataset are classified as fraudelent."
   ]
  },
  {
   "cell_type": "code",
   "execution_count": 4,
   "id": "0be8b56c-a477-4da8-bc61-7fdf17fcd069",
   "metadata": {},
   "outputs": [
    {
     "name": "stdout",
     "output_type": "stream",
     "text": [
      "Rows: 488\n",
      "Columns: 18\n",
      "$ Sector_score  \u001b[3m\u001b[90m<dbl>\u001b[39m\u001b[23m 3.89, 3.89, 3.89, 3.89, 3.89, 3.89, 3.89, 3.89, 3.89, 3.…\n",
      "$ LOCATION_ID   \u001b[3m\u001b[90m<chr>\u001b[39m\u001b[23m \"6\", \"6\", \"6\", \"8\", \"3\", \"4\", \"14\", \"5\", \"5\", \"5\", \"19\",…\n",
      "$ PARA_A        \u001b[3m\u001b[90m<dbl>\u001b[39m\u001b[23m 0.51, 0.00, 0.00, 0.00, 0.94, 0.00, 0.00, 0.00, 0.00, 0.…\n",
      "$ SCORE_A       \u001b[3m\u001b[90m<dbl>\u001b[39m\u001b[23m 2, 2, 2, 2, 2, 2, 2, 2, 2, 2, 2, 2, 2, 2, 2, 2, 2, 2, 2,…\n",
      "$ PARA_B        \u001b[3m\u001b[90m<dbl>\u001b[39m\u001b[23m 0.23, 0.08, 0.83, 0.84, 0.01, 1.10, 1.03, 1.76, 2.97, 0.…\n",
      "$ SCORE_B       \u001b[3m\u001b[90m<dbl>\u001b[39m\u001b[23m 2, 2, 2, 2, 2, 2, 2, 2, 2, 2, 2, 2, 2, 2, 2, 2, 2, 2, 2,…\n",
      "$ TOTAL         \u001b[3m\u001b[90m<dbl>\u001b[39m\u001b[23m 0.74, 0.08, 0.83, 0.84, 0.95, 1.10, 1.03, 1.76, 2.97, 0.…\n",
      "$ numbers       \u001b[3m\u001b[90m<dbl>\u001b[39m\u001b[23m 5, 5, 5, 5, 5, 5, 5, 5, 5, 5, 5, 5, 5, 5, 5, 5, 5, 5, 5,…\n",
      "$ Marks         \u001b[3m\u001b[90m<dbl>\u001b[39m\u001b[23m 2, 2, 2, 2, 2, 2, 2, 2, 2, 2, 2, 2, 2, 2, 2, 2, 2, 2, 2,…\n",
      "$ Money_Value   \u001b[3m\u001b[90m<dbl>\u001b[39m\u001b[23m 0.000, 0.000, 2.950, 0.007, 0.100, 0.007, 0.000, 1.080, …\n",
      "$ MONEY_Marks   \u001b[3m\u001b[90m<dbl>\u001b[39m\u001b[23m 2, 2, 2, 2, 2, 2, 2, 2, 2, 2, 2, 2, 2, 2, 2, 2, 2, 2, 2,…\n",
      "$ District      \u001b[3m\u001b[90m<dbl>\u001b[39m\u001b[23m 2, 2, 2, 2, 2, 2, 2, 2, 2, 2, 2, 2, 2, 2, 2, 2, 2, 2, 2,…\n",
      "$ Loss          \u001b[3m\u001b[90m<dbl>\u001b[39m\u001b[23m 0, 0, 0, 0, 0, 0, 0, 0, 0, 0, 0, 0, 0, 0, 0, 0, 0, 0, 0,…\n",
      "$ LOSS_SCORE    \u001b[3m\u001b[90m<dbl>\u001b[39m\u001b[23m 2, 2, 2, 2, 2, 2, 2, 2, 2, 2, 2, 2, 2, 2, 2, 2, 2, 2, 2,…\n",
      "$ History       \u001b[3m\u001b[90m<dbl>\u001b[39m\u001b[23m 0, 0, 0, 0, 0, 0, 0, 0, 0, 0, 0, 0, 0, 0, 0, 0, 0, 0, 0,…\n",
      "$ History_score \u001b[3m\u001b[90m<dbl>\u001b[39m\u001b[23m 2, 2, 2, 2, 2, 2, 2, 2, 2, 2, 2, 2, 2, 2, 2, 2, 2, 2, 2,…\n",
      "$ Score         \u001b[3m\u001b[90m<dbl>\u001b[39m\u001b[23m 2, 2, 2, 2, 2, 2, 2, 2, 2, 2, 2, 2, 2, 2, 2, 2, 2, 2, 2,…\n",
      "$ Risk          \u001b[3m\u001b[90m<fct>\u001b[39m\u001b[23m 0, 0, 0, 0, 0, 0, 0, 0, 0, 0, 0, 0, 0, 0, 0, 0, 0, 0, 0,…\n"
     ]
    }
   ],
   "source": [
    "trial_split <- initial_split(trial, prop = 0.63, strata = Risk)\n",
    "trial_train <- training(trial_split)\n",
    "trial_test <- testing(trial_split) \n",
    "glimpse(trial_train)"
   ]
  },
  {
   "cell_type": "markdown",
   "id": "326669de-a910-4eea-96ed-18bc706cb51e",
   "metadata": {},
   "source": [
    "Based on this glimpse shot of the training dataset, it seems that it is already in a tidy format, and thus, the steps to cleaning and wrangling are unnecessary."
   ]
  },
  {
   "cell_type": "markdown",
   "id": "87d5c8a4-9e24-41df-bfba-dfdcfff046c5",
   "metadata": {},
   "source": [
    "Prior to performing the actual data analysis, we will establish two tuning specification to identify the best K for optimal analysis, and to discover which predictors will be the most effective in classifying the fraudlent risk factors of firms accurately. For the first tuning specification, we have selected the inherent risk factors as predictors. And for the second one, we have selected control risk factors."
   ]
  },
  {
   "cell_type": "code",
   "execution_count": 29,
   "id": "32dbdb77-e036-4daa-a80b-ae9be019382b",
   "metadata": {},
   "outputs": [
    {
     "data": {
      "image/png": "[encoded data removed]",
      "text/plain": [
       "plot without title"
      ]
     },
     "metadata": {
      "image/png": {
       "height": 300,
       "width": 360
      }
     },
     "output_type": "display_data"
    }
   ],
   "source": [
    "set.seed (111)\n",
    "options(repr.plot.height = 5, repr.plot.width = 6)\n",
    "if(any(is.na(trial)))\n",
    "  trial <- na.omit(trial) \n",
    "\n",
    "training_recipe <- recipe (Risk ~ PARA_A + PARA_B + TOTAL + Money_Value, data = trial_train) |>\n",
    "                    step_naomit(all_predictors()) |>  # Additional step to remove NA values\n",
    "                    step_scale(all_predictors()) |>\n",
    "                    step_center(all_predictors())\n",
    "\n",
    "knn_tune <- nearest_neighbor(weight_func = \"rectangular\", neighbors = tune()) |>\n",
    "            set_engine(\"kknn\") |>\n",
    "            set_mode(\"classification\")\n",
    "\n",
    "training_vfold <- vfold_cv(trial, v = 5, strata = Risk)\n",
    "\n",
    "k_values <- tibble(neighbors = 1:10)\n",
    "\n",
    "knn_results <- workflow() |>\n",
    "                add_recipe(training_recipe) |>\n",
    "                add_model(knn_tune) |>\n",
    "                tune_grid(resamples = training_vfold, grid = k_values) |>\n",
    "                collect_metrics()\n",
    "\n",
    "accuracies <- knn_results |>\n",
    "                filter(.metric == \"accuracy\")\n",
    "\n",
    "cross_val_plot <- ggplot(accuracies, aes(x = neighbors, y = mean, group = .metric)) +\n",
    "                    geom_point() +\n",
    "                    geom_line() +\n",
    "                    labs(x = \"Neighbors\", y = \"Classification Accuracy\") +\n",
    "                    theme(text = element_text(size = 12))+\n",
    "                    ggtitle (\"Figure 1: Choosing best K value based on accuracy rate \\n (using inherent risk factors\")\n",
    "\n",
    "cross_val_plot"
   ]
  },
  {
   "cell_type": "markdown",
   "id": "e1666596-f0cd-4bb2-83e7-57c7ef19ac34",
   "metadata": {},
   "source": [
    "For the tuning specification for inherent risk factors, data standardization forms the first step of our analysis. This ensures fairness and uniformity by aligning all variables to a comparable scale. Following this, we create a classification recipe, a preparatory step that outlines how we'll transform the data for modeling.\n",
    "\n",
    "Subsequently, we establish a tuning specification to identify the optimal number of K-neighbors for our K-nearest neighbors (KNN) model, followed by the setting up of a 5-fold cross-validation process. This division of the dataset into five subsets helps us to independently train and test the model, improving its reliability and minimizing dependency on any particular data partition.\n",
    "\n",
    "Next, we construct a KNN model specification fitted to the training data, which enables us to generate predictions based on established relationships within the dataset. We encapsulate our recipe, model specification, and cross-validation process into a tuning workflow, iteratively refining our model. Upon its completion, we collect all performance metrics to assess the model's accuracy.\n",
    "\n",
    "Finally, we graphically represent the relationship between the model's accuracy rate and the number of K-neighbors using a combination of point and scatter plots. This visualization assists us in identifying the most effective K value: 5, since adjusting the value to a nearby one does not significantly diminish the model's accuracy, which ensures our selection is dependable amidst uncertainty. Moreover, the computational cost of training this dataset is not prohibitive. However, one thing to note is that one nearby K, 4, has a lower accuracy rate relatively to 3 and 6, this suggests that there might be a tie where the algorithm won't be able to make a decisive prediction because each class has equal votes.\n",
    "\n",
    "On the other hand, based on the above visualization, we conclude that all predictors used in this tuning specfication are necessary to produce accurate results for the final data analysis, as it has allowed us to pick the best k."
   ]
  },
  {
   "cell_type": "code",
   "execution_count": 31,
   "id": "028c1e26-6f48-4a4a-b987-881bfb2389b2",
   "metadata": {},
   "outputs": [
    {
     "data": {
      "image/png": "[encoded data removed]",
      "text/plain": [
       "plot without title"
      ]
     },
     "metadata": {
      "image/png": {
       "height": 300,
       "width": 360
      }
     },
     "output_type": "display_data"
    }
   ],
   "source": [
    "set.seed (99)\n",
    "options(repr.plot.height = 5, repr.plot.width = 6)\n",
    "\n",
    "training_recipe2 <- recipe (Risk ~ Score + History_score, data = trial_train)|>\n",
    "                    step_scale(all_predictors()) |>\n",
    "                    step_center(all_predictors())\n",
    "\n",
    "knn_tune2 <- nearest_neighbor(weight_func = \"rectangular\", neighbors = tune()) |>\n",
    "            set_engine(\"kknn\") |>\n",
    "            set_mode(\"classification\")\n",
    "\n",
    "training_vfold2 <- vfold_cv(trial, v = 5, strata = Risk)\n",
    "\n",
    "k_values2 <- tibble(neighbors = 2:8)\n",
    "knn_results2 <- workflow() |>\n",
    "                add_recipe(training_recipe2) |>\n",
    "                add_model(knn_tune2) |>\n",
    "                tune_grid(resamples = training_vfold2, grid = k_values) |>\n",
    "                collect_metrics()\n",
    "\n",
    "accuracies2 <- knn_results2 |>\n",
    "                filter(.metric == \"accuracy\")\n",
    "\n",
    "cross_val_plot <- ggplot(accuracies2, aes(x = neighbors, y = mean, group = .metric)) +\n",
    "                    geom_point() +\n",
    "                    geom_line() +\n",
    "                    labs(x = \"Neighbors\", y = \"Classification Accuracy\") +\n",
    "                    theme(text = element_text(size = 12)) +\n",
    "                    ggtitle (\"Figure 2: Choosing best K value based on accuracy rate \\n (using control risk factors\")\n",
    "                    \n",
    "cross_val_plot"
   ]
  },
  {
   "cell_type": "markdown",
   "id": "384f52a6-6e1d-4644-99cc-7a627da042f1",
   "metadata": {},
   "source": [
    "The above visualization is the result of our second tuning specification. While it has seemingly produced a result that has a 100% accuracy rate in classification, we have decided not to utilize any of these predictors as they reflect outcomes that are derived from data previously processed by others. Therefore, while employing these predictors would result in perfect accuracy, we ultimately lack the mathematical model that can allow us to reproduce the results, which will thereby bar us from using these data in our final data analysis."
   ]
  },
  {
   "cell_type": "code",
   "execution_count": 32,
   "id": "004577e9-89c1-40ee-8703-aa16a70829c2",
   "metadata": {},
   "outputs": [
    {
     "data": {
      "text/plain": [
       "          Truth\n",
       "Prediction   0   1\n",
       "         0 101  19\n",
       "         1   7 161"
      ]
     },
     "metadata": {},
     "output_type": "display_data"
    },
    {
     "data": {
      "image/png": "[encoded data removed]",
      "text/plain": [
       "plot without title"
      ]
     },
     "metadata": {
      "image/png": {
       "height": 300,
       "width": 360
      }
     },
     "output_type": "display_data"
    }
   ],
   "source": [
    "set.seed (199)\n",
    "training_recipe <- recipe (Risk ~ PARA_A + PARA_B + TOTAL + Money_Value, data = trial_train) |>\n",
    "                    step_naomit(all_predictors()) |>  # Additional step to remove NA values\n",
    "                    step_scale(all_predictors()) |>\n",
    "                    step_center(all_predictors())\n",
    "\n",
    "knn_spec <- nearest_neighbor(weight_func = \"rectangular\", neighbors = 5) |>\n",
    "            set_engine(\"kknn\") |>\n",
    "            set_mode(\"classification\")\n",
    "\n",
    "knn_fit <- workflow() |>\n",
    "                add_recipe(training_recipe) |>\n",
    "                add_model(knn_spec) |>\n",
    "                fit (data = trial_train)\n",
    "\n",
    "trial_test_predictions <- predict (knn_fit, trial_test)|>\n",
    "                        bind_cols (trial_test)\n",
    "\n",
    "trial_metrics <- trial_test_predictions |>\n",
    "                metrics (truth = Risk, estimate = .pred_class) |>\n",
    "                filter (.metric == \"accuracy\")\n",
    "\n",
    "trial_conf_mat <- trial_test_predictions |>\n",
    "                    conf_mat (truth = Risk, estimate = .pred_class)\n",
    "\n",
    "trial_test_plot <- trial_test_predictions|>\n",
    "                    ggplot(aes(x = Risk, fill = .pred_class)) +\n",
    "                    geom_bar(position = 'dodge') +\n",
    "                    labs(x = \"Fraudulent risk of a firm\", \n",
    "                         y = \"Count\", \n",
    "                         fill = \"Predicted risk\") +\n",
    "                    ggtitle(\"Figure 3: Comparison of Actual vs. Predicted Fraudulent Risk\")\n",
    "\n",
    "trial_conf_mat\n",
    "trial_test_plot"
   ]
  },
  {
   "cell_type": "code",
   "execution_count": null,
   "id": "88ce4004-283b-48c7-bc0e-f80a2857b8cd",
   "metadata": {},
   "outputs": [],
   "source": []
  },
  {
   "cell_type": "code",
   "execution_count": null,
   "id": "1b48c100-97a6-45b6-80b6-e7672e857135",
   "metadata": {},
   "outputs": [],
   "source": []
  }
 ],
 "metadata": {
  "kernelspec": {
   "display_name": "R",
   "language": "R",
   "name": "ir"
  },
  "language_info": {
   "codemirror_mode": "r",
   "file_extension": ".r",
   "mimetype": "text/x-r-source",
   "name": "R",
   "pygments_lexer": "r",
   "version": "4.1.3"
  }
 },
 "nbformat": 4,
 "nbformat_minor": 5
}
