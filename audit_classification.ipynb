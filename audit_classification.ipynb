{
 "cells": [
  {
   "cell_type": "code",
   "execution_count": 1,
   "id": "4da83720-42c5-455d-8e4f-91605ccb1860",
   "metadata": {},
   "outputs": [
    {
     "name": "stderr",
     "output_type": "stream",
     "text": [
      "── \u001b[1mAttaching packages\u001b[22m ─────────────────────────────────────── tidyverse 1.3.1 ──\n",
      "\n",
      "\u001b[32m✔\u001b[39m \u001b[34mggplot2\u001b[39m 3.3.6     \u001b[32m✔\u001b[39m \u001b[34mpurrr  \u001b[39m 0.3.4\n",
      "\u001b[32m✔\u001b[39m \u001b[34mtibble \u001b[39m 3.1.7     \u001b[32m✔\u001b[39m \u001b[34mdplyr  \u001b[39m 1.0.9\n",
      "\u001b[32m✔\u001b[39m \u001b[34mtidyr  \u001b[39m 1.2.0     \u001b[32m✔\u001b[39m \u001b[34mstringr\u001b[39m 1.4.0\n",
      "\u001b[32m✔\u001b[39m \u001b[34mreadr  \u001b[39m 2.1.2     \u001b[32m✔\u001b[39m \u001b[34mforcats\u001b[39m 0.5.1\n",
      "\n",
      "── \u001b[1mConflicts\u001b[22m ────────────────────────────────────────── tidyverse_conflicts() ──\n",
      "\u001b[31m✖\u001b[39m \u001b[34mdplyr\u001b[39m::\u001b[32mfilter()\u001b[39m masks \u001b[34mstats\u001b[39m::filter()\n",
      "\u001b[31m✖\u001b[39m \u001b[34mdplyr\u001b[39m::\u001b[32mlag()\u001b[39m    masks \u001b[34mstats\u001b[39m::lag()\n",
      "\n",
      "── \u001b[1mAttaching packages\u001b[22m ────────────────────────────────────── tidymodels 1.0.0 ──\n",
      "\n",
      "\u001b[32m✔\u001b[39m \u001b[34mbroom       \u001b[39m 1.0.0     \u001b[32m✔\u001b[39m \u001b[34mrsample     \u001b[39m 1.0.0\n",
      "\u001b[32m✔\u001b[39m \u001b[34mdials       \u001b[39m 1.0.0     \u001b[32m✔\u001b[39m \u001b[34mtune        \u001b[39m 1.0.0\n",
      "\u001b[32m✔\u001b[39m \u001b[34minfer       \u001b[39m 1.0.2     \u001b[32m✔\u001b[39m \u001b[34mworkflows   \u001b[39m 1.0.0\n",
      "\u001b[32m✔\u001b[39m \u001b[34mmodeldata   \u001b[39m 1.0.0     \u001b[32m✔\u001b[39m \u001b[34mworkflowsets\u001b[39m 1.0.0\n",
      "\u001b[32m✔\u001b[39m \u001b[34mparsnip     \u001b[39m 1.0.0     \u001b[32m✔\u001b[39m \u001b[34myardstick   \u001b[39m 1.0.0\n",
      "\u001b[32m✔\u001b[39m \u001b[34mrecipes     \u001b[39m 1.0.1     \n",
      "\n",
      "── \u001b[1mConflicts\u001b[22m ───────────────────────────────────────── tidymodels_conflicts() ──\n",
      "\u001b[31m✖\u001b[39m \u001b[34mscales\u001b[39m::\u001b[32mdiscard()\u001b[39m masks \u001b[34mpurrr\u001b[39m::discard()\n",
      "\u001b[31m✖\u001b[39m \u001b[34mdplyr\u001b[39m::\u001b[32mfilter()\u001b[39m   masks \u001b[34mstats\u001b[39m::filter()\n",
      "\u001b[31m✖\u001b[39m \u001b[34mrecipes\u001b[39m::\u001b[32mfixed()\u001b[39m  masks \u001b[34mstringr\u001b[39m::fixed()\n",
      "\u001b[31m✖\u001b[39m \u001b[34mdplyr\u001b[39m::\u001b[32mlag()\u001b[39m      masks \u001b[34mstats\u001b[39m::lag()\n",
      "\u001b[31m✖\u001b[39m \u001b[34myardstick\u001b[39m::\u001b[32mspec()\u001b[39m masks \u001b[34mreadr\u001b[39m::spec()\n",
      "\u001b[31m✖\u001b[39m \u001b[34mrecipes\u001b[39m::\u001b[32mstep()\u001b[39m   masks \u001b[34mstats\u001b[39m::step()\n",
      "\u001b[34m•\u001b[39m Use \u001b[32mtidymodels_prefer()\u001b[39m to resolve common conflicts.\n",
      "\n",
      "Warning message in file(filename, \"r\", encoding = encoding):\n",
      "“cannot open file 'cleanup.R': No such file or directory”\n"
     ]
    },
    {
     "ename": "ERROR",
     "evalue": "Error in file(filename, \"r\", encoding = encoding): cannot open the connection\n",
     "output_type": "error",
     "traceback": [
      "Error in file(filename, \"r\", encoding = encoding): cannot open the connection\nTraceback:\n",
      "1. source(\"cleanup.R\")",
      "2. file(filename, \"r\", encoding = encoding)"
     ]
    }
   ],
   "source": [
    "library(tidyverse)\n",
    "library(repr)\n",
    "library(tidymodels)\n",
    "source('cleanup.R')"
   ]
  },
  {
   "cell_type": "code",
   "execution_count": 2,
   "id": "a71914b9-5c7f-4fdd-aa40-44982b020435",
   "metadata": {},
   "outputs": [
    {
     "name": "stderr",
     "output_type": "stream",
     "text": [
      "\u001b[1mRows: \u001b[22m\u001b[34m776\u001b[39m \u001b[1mColumns: \u001b[22m\u001b[34m18\u001b[39m\n",
      "\u001b[36m──\u001b[39m \u001b[1mColumn specification\u001b[22m \u001b[36m────────────────────────────────────────────────────────\u001b[39m\n",
      "\u001b[1mDelimiter:\u001b[22m \",\"\n",
      "\u001b[31mchr\u001b[39m  (1): LOCATION_ID\n",
      "\u001b[32mdbl\u001b[39m (17): Sector_score, PARA_A, SCORE_A, PARA_B, SCORE_B, TOTAL, numbers, Ma...\n",
      "\n",
      "\u001b[36mℹ\u001b[39m Use `spec()` to retrieve the full column specification for this data.\n",
      "\u001b[36mℹ\u001b[39m Specify the column types or set `show_col_types = FALSE` to quiet this message.\n"
     ]
    }
   ],
   "source": [
    "read_csv(\"https://raw.githubusercontent.com/sgvjlee23/DSCI1002023SGroup6/main/trial.csv\") -> trial\n",
    "trial|>\n",
    "    mutate (Risk = as_factor (Risk)) -> trial"
   ]
  },
  {
   "cell_type": "markdown",
   "id": "4f8ffcf5-f695-4384-92a6-35e6272ee885",
   "metadata": {},
   "source": [
    "Title: Predicting Corporate Fraud Risks\n",
    "This project aims to predict a firm's potential for fraudulent behavior by analyzing both current and historical risk factors. Our overarching goal is to develop a robust model capable of distinguishing between firms likely to engage in fraudulent activity and those unlikely to do so, based on their past and present financial activities.\n",
    "\n",
    "Fraud typically involves deceptive maneuvers such as the manipulation or misrepresentation of financial data to secure unlawful gains. To facilitate an accurate classification, we're using the Trial dataset, which offers a rich mix of current inherent risk factors and historical control risk factors.\n",
    "\n",
    "This data standardization forms the first step of our analysis, ensuring fairness and uniformity by aligning all variables to a comparable scale. Following this, we devise a classification recipe, a preparatory step that outlines how we'll transform the data for modeling.\n",
    "\n",
    "Subsequently, we establish a tuning specification to identify the optimal number of K-neighbors for our K-nearest neighbors (KNN) model, followed by the setting up of a 5-fold cross-validation process. This division of the dataset into five subsets helps us to independently train and test the model, improving its reliability and minimizing dependency on any particular data partition.\n",
    "\n",
    "Next, we construct a KNN model specification fitted to the training data, which enables us to generate predictions based on established relationships within the dataset. We encapsulate our recipe, model specification, and cross-validation process into a tuning workflow, iteratively refining our model. Upon its completion, we collect all performance metrics to assess the model's accuracy.\n",
    "\n",
    "Finally, we graphically represent the relationship between the model's accuracy rate and the number of K-neighbors using a combination of point and scatter plots. This visualization assists us in identifying the most effective K value for our model.\n",
    "\n",
    "The variables selected for classification are “PARA_A” (discrepancy discovered in planned expenditure), “PARA_B” (discrepancy discovered in unplanned expenditure), “TOTAL” (total amount of discrepancy in other inspection reports, “Money_Value” (amounts of money involved in past audits). This choice is made basedon on their superior efficacy in plotting graphs and determining the true average accuracy value behind the K-neighbors. Furthermore, these variables exhibit no overlapping cell values when compared to all others, promoting a clearer visualization and enhancing model reliability.\n",
    "\n",
    "Preliminary analysis reveals that approximately 60% of the firms in our dataset are not at risk of fraudulent activities, while the remaining 40% are. We anticipate our classification model to reflect similar findings. Successful classification of a firm's fraud risk allows us to avoid interactions with potentially fraudulent firms, safeguarding against potential financial losses.\n",
    "\n",
    "Our findings prompt further queries, such as what preventive measures can be instituted to lessen interaction risks with fraudulent firms, or how fraud risks may vary across different locations or industry sectors. These questions guide our future investigations in the domain of fraud detection."
   ]
  },
  {
   "cell_type": "code",
   "execution_count": 3,
   "id": "53242da0-59b3-42ec-8a41-034f68ee0f63",
   "metadata": {},
   "outputs": [
    {
     "name": "stdout",
     "output_type": "stream",
     "text": [
      "Rows: 581\n",
      "Columns: 18\n",
      "$ Sector_score  \u001b[3m\u001b[90m<dbl>\u001b[39m\u001b[23m 3.89, 3.89, 3.89, 3.89, 3.89, 3.89, 3.89, 3.89, 3.89, 3.…\n",
      "$ LOCATION_ID   \u001b[3m\u001b[90m<chr>\u001b[39m\u001b[23m \"6\", \"6\", \"6\", \"8\", \"3\", \"4\", \"5\", \"5\", \"5\", \"19\", \"19\",…\n",
      "$ PARA_A        \u001b[3m\u001b[90m<dbl>\u001b[39m\u001b[23m 0.00, 0.51, 0.00, 0.00, 0.94, 0.00, 0.00, 0.00, 0.00, 0.…\n",
      "$ SCORE_A       \u001b[3m\u001b[90m<dbl>\u001b[39m\u001b[23m 2, 2, 2, 2, 2, 2, 2, 2, 2, 2, 2, 2, 2, 2, 2, 2, 2, 2, 2,…\n",
      "$ PARA_B        \u001b[3m\u001b[90m<dbl>\u001b[39m\u001b[23m 4.83, 0.23, 0.08, 0.84, 0.01, 1.10, 2.97, 0.43, 0.94, 2.…\n",
      "$ SCORE_B       \u001b[3m\u001b[90m<dbl>\u001b[39m\u001b[23m 2, 2, 2, 2, 2, 2, 2, 2, 2, 2, 2, 2, 2, 2, 2, 2, 2, 2, 2,…\n",
      "$ TOTAL         \u001b[3m\u001b[90m<dbl>\u001b[39m\u001b[23m 4.83, 0.74, 0.08, 0.84, 0.95, 1.10, 2.97, 0.43, 0.94, 2.…\n",
      "$ numbers       \u001b[3m\u001b[90m<dbl>\u001b[39m\u001b[23m 5, 5, 5, 5, 5, 5, 5, 5, 5, 5, 5, 5, 5, 5, 5, 5, 5, 5, 5,…\n",
      "$ Marks         \u001b[3m\u001b[90m<dbl>\u001b[39m\u001b[23m 2, 2, 2, 2, 2, 2, 2, 2, 2, 2, 2, 2, 2, 2, 2, 2, 2, 2, 2,…\n",
      "$ Money_Value   \u001b[3m\u001b[90m<dbl>\u001b[39m\u001b[23m 0.940, 0.000, 0.000, 0.007, 0.100, 0.007, 2.840, 0.000, …\n",
      "$ MONEY_Marks   \u001b[3m\u001b[90m<dbl>\u001b[39m\u001b[23m 2, 2, 2, 2, 2, 2, 2, 2, 2, 2, 2, 2, 2, 2, 2, 2, 2, 2, 2,…\n",
      "$ District      \u001b[3m\u001b[90m<dbl>\u001b[39m\u001b[23m 2, 2, 2, 2, 2, 2, 2, 2, 2, 2, 2, 2, 2, 2, 2, 2, 2, 2, 2,…\n",
      "$ Loss          \u001b[3m\u001b[90m<dbl>\u001b[39m\u001b[23m 0, 0, 0, 0, 0, 0, 0, 0, 0, 0, 0, 0, 0, 0, 0, 0, 0, 0, 0,…\n",
      "$ LOSS_SCORE    \u001b[3m\u001b[90m<dbl>\u001b[39m\u001b[23m 2, 2, 2, 2, 2, 2, 2, 2, 2, 2, 2, 2, 2, 2, 2, 2, 2, 2, 2,…\n",
      "$ History       \u001b[3m\u001b[90m<dbl>\u001b[39m\u001b[23m 0, 0, 0, 0, 0, 0, 0, 0, 0, 0, 0, 0, 0, 0, 0, 0, 0, 0, 0,…\n",
      "$ History_score \u001b[3m\u001b[90m<dbl>\u001b[39m\u001b[23m 2, 2, 2, 2, 2, 2, 2, 2, 2, 2, 2, 2, 2, 2, 2, 2, 2, 2, 2,…\n",
      "$ Score         \u001b[3m\u001b[90m<dbl>\u001b[39m\u001b[23m 2, 2, 2, 2, 2, 2, 2, 2, 2, 2, 2, 2, 2, 2, 2, 2, 2, 2, 2,…\n",
      "$ Risk          \u001b[3m\u001b[90m<fct>\u001b[39m\u001b[23m 0, 0, 0, 0, 0, 0, 0, 0, 0, 0, 0, 0, 0, 0, 0, 0, 0, 0, 0,…\n"
     ]
    }
   ],
   "source": [
    "trial_split <- initial_split(trial, prop = 0.75, strata = Risk)\n",
    "trial_train <- training(trial_split)\n",
    "trial_test <- testing(trial_split) \n",
    "glimpse(trial_train)"
   ]
  },
  {
   "cell_type": "code",
   "execution_count": 4,
   "id": "535e9e31-3488-45ca-8b2a-300359f26f70",
   "metadata": {},
   "outputs": [
    {
     "data": {
      "text/html": [
       "<table class=\"dataframe\">\n",
       "<caption>A tibble: 2 × 2</caption>\n",
       "<thead>\n",
       "\t<tr><th scope=col>Risk</th><th scope=col>count</th></tr>\n",
       "\t<tr><th scope=col>&lt;fct&gt;</th><th scope=col>&lt;int&gt;</th></tr>\n",
       "</thead>\n",
       "<tbody>\n",
       "\t<tr><td>0</td><td>217</td></tr>\n",
       "\t<tr><td>1</td><td>364</td></tr>\n",
       "</tbody>\n",
       "</table>\n"
      ],
      "text/latex": [
       "A tibble: 2 × 2\n",
       "\\begin{tabular}{ll}\n",
       " Risk & count\\\\\n",
       " <fct> & <int>\\\\\n",
       "\\hline\n",
       "\t 0 & 217\\\\\n",
       "\t 1 & 364\\\\\n",
       "\\end{tabular}\n"
      ],
      "text/markdown": [
       "\n",
       "A tibble: 2 × 2\n",
       "\n",
       "| Risk &lt;fct&gt; | count &lt;int&gt; |\n",
       "|---|---|\n",
       "| 0 | 217 |\n",
       "| 1 | 364 |\n",
       "\n"
      ],
      "text/plain": [
       "  Risk count\n",
       "1 0    217  \n",
       "2 1    364  "
      ]
     },
     "metadata": {},
     "output_type": "display_data"
    }
   ],
   "source": [
    "fraud_count <- trial_train |>\n",
    "                group_by (Risk) |>\n",
    "                summarize (count = n())\n",
    "fraud_count"
   ]
  },
  {
   "cell_type": "markdown",
   "id": "13c12c19-538d-4efc-873f-e0a1c9282ebf",
   "metadata": {},
   "source": [
    "The data is already in a tidy format."
   ]
  },
  {
   "cell_type": "code",
   "execution_count": 23,
   "id": "e6a82aa1-f22d-48e1-a895-371ffbf219d4",
   "metadata": {},
   "outputs": [
    {
     "data": {
      "image/png": "[encoded data removed]",
      "text/plain": [
       "plot without title"
      ]
     },
     "metadata": {
      "image/png": {
       "height": 300,
       "width": 360
      }
     },
     "output_type": "display_data"
    }
   ],
   "source": [
    "set.seed(1234) \n",
    "\n",
    "options(repr.plot.height = 5, repr.plot.width = 6)\n",
    "if(any(is.na(trial)))\n",
    "  trial <- na.omit(trial) \n",
    "\n",
    "training_recipe <- recipe (Risk ~ PARA_A + PARA_B + TOTAL + Money_Value, data = trial) |>\n",
    "                    step_naomit(all_predictors()) |>  # Additional step to remove NA values\n",
    "                    step_scale(all_predictors()) |>\n",
    "                    step_center(all_predictors())\n",
    "\n",
    "# KNN tuning specification\n",
    "knn_tune <- nearest_neighbor(weight_func = \"rectangular\", neighbors = tune()) |>\n",
    "            set_engine(\"kknn\") |>\n",
    "            set_mode(\"classification\")\n",
    "\n",
    "# Cross-validation setup\n",
    "training_vfold <- vfold_cv(trial, v = 5, strata = Risk)\n",
    "\n",
    "# KNN specification\n",
    "knn_spec <- nearest_neighbor(weight_func = \"rectangular\", neighbors = 5) |>\n",
    "            set_engine(\"kknn\") |>\n",
    "            set_mode(\"classification\")\n",
    "\n",
    "# Fit model\n",
    "training_fit <- workflow()|>\n",
    "                add_recipe(training_recipe) |>\n",
    "                add_model(knn_spec) |>\n",
    "                fit_resamples(resamples = training_vfold)\n",
    "\n",
    "# Tuning\n",
    "k_values <- tibble(neighbors = 2:6)\n",
    "knn_results <- workflow() |>\n",
    "                add_recipe(training_recipe) |>\n",
    "                add_model(knn_tune) |>\n",
    "                tune_grid(resamples = training_vfold, grid = k_values) |>\n",
    "                collect_metrics()\n",
    "\n",
    "# Extract accuracies\n",
    "accuracies <- knn_results |>\n",
    "                filter(.metric == \"accuracy\")\n",
    "\n",
    "# Plot\n",
    "cross_val_plot <- ggplot(accuracies, aes(x = neighbors, y = mean, group = .metric)) +\n",
    "                    geom_point() +\n",
    "                    geom_line() +\n",
    "                    labs(x = \"Neighbors\", y = \"Classification Accuracy\") +\n",
    "                    theme(text = element_text(size = 12))\n",
    "\n",
    "cross_val_plot"
   ]
  },
  {
   "cell_type": "code",
   "execution_count": 17,
   "id": "46cc7742-97a1-4575-b8ed-544c3a4045d9",
   "metadata": {},
   "outputs": [
    {
     "data": {
      "image/png": "[encoded data removed]",
      "text/plain": [
       "plot without title"
      ]
     },
     "metadata": {
      "image/png": {
       "height": 300,
       "width": 360
      }
     },
     "output_type": "display_data"
    }
   ],
   "source": [
    "options(repr.plot.height = 5, repr.plot.width = 6)\n",
    "\n",
    "training_recipe2 <- recipe (Risk ~ Score + History_score, data = trial)|>\n",
    "                    step_scale(all_predictors()) |>\n",
    "                    step_center(all_predictors())\n",
    "\n",
    "# KNN tuning specification\n",
    "knn_tune2 <- nearest_neighbor(weight_func = \"rectangular\", neighbors = tune()) |>\n",
    "            set_engine(\"kknn\") |>\n",
    "            set_mode(\"classification\")\n",
    "\n",
    "# Cross-validation setup\n",
    "training_vfold2 <- vfold_cv(trial, v = 5, strata = Risk)\n",
    "\n",
    "# KNN specification\n",
    "knn_spec2 <- nearest_neighbor(weight_func = \"rectangular\", neighbors = 5) |>\n",
    "            set_engine(\"kknn\") |>\n",
    "            set_mode(\"classification\")\n",
    "\n",
    "# Fit model\n",
    "training_fit2 <- workflow()|>\n",
    "                add_recipe(training_recipe2) |>\n",
    "                add_model(knn_spec2) |>\n",
    "                fit_resamples(resamples = training_vfold)\n",
    "\n",
    "# Tuning\n",
    "k_values2 <- tibble(neighbors = 2:6)\n",
    "knn_results2 <- workflow() |>\n",
    "                add_recipe(training_recipe2) |>\n",
    "                add_model(knn_tune2) |>\n",
    "                tune_grid(resamples = training_vfold2, grid = k_values) |>\n",
    "                collect_metrics()\n",
    "\n",
    "# Extract accuracies\n",
    "accuracies2 <- knn_results2 |>\n",
    "                filter(.metric == \"accuracy\")\n",
    "\n",
    "# Plot\n",
    "cross_val_plot <- ggplot(accuracies2, aes(x = neighbors, y = mean, group = .metric)) +\n",
    "                    geom_point() +\n",
    "                    geom_line() +\n",
    "                    labs(x = \"Neighbors\", y = \"Classification Accuracy\") +\n",
    "                    theme(text = element_text(size = 12))\n",
    "\n",
    "cross_val_plot"
   ]
  },
  {
   "cell_type": "code",
   "execution_count": 15,
   "id": "0bd77d62-0f2f-4932-b833-4abdf9119149",
   "metadata": {},
   "outputs": [
    {
     "data": {
      "text/html": [
       "<table class=\"dataframe\">\n",
       "<caption>A tibble: 5 × 7</caption>\n",
       "<thead>\n",
       "\t<tr><th scope=col>neighbors</th><th scope=col>.metric</th><th scope=col>.estimator</th><th scope=col>mean</th><th scope=col>n</th><th scope=col>std_err</th><th scope=col>.config</th></tr>\n",
       "\t<tr><th scope=col>&lt;int&gt;</th><th scope=col>&lt;chr&gt;</th><th scope=col>&lt;chr&gt;</th><th scope=col>&lt;dbl&gt;</th><th scope=col>&lt;int&gt;</th><th scope=col>&lt;dbl&gt;</th><th scope=col>&lt;chr&gt;</th></tr>\n",
       "</thead>\n",
       "<tbody>\n",
       "\t<tr><td>2</td><td>accuracy</td><td>binary</td><td>0.8322581</td><td>4</td><td>0.012069863</td><td>Preprocessor1_Model1</td></tr>\n",
       "\t<tr><td>3</td><td>accuracy</td><td>binary</td><td>0.8661290</td><td>4</td><td>0.006650170</td><td>Preprocessor1_Model2</td></tr>\n",
       "\t<tr><td>4</td><td>accuracy</td><td>binary</td><td>0.8645161</td><td>4</td><td>0.006968538</td><td>Preprocessor1_Model3</td></tr>\n",
       "\t<tr><td>5</td><td>accuracy</td><td>binary</td><td>0.8725806</td><td>4</td><td>0.006650170</td><td>Preprocessor1_Model4</td></tr>\n",
       "\t<tr><td>6</td><td>accuracy</td><td>binary</td><td>0.8709677</td><td>4</td><td>0.006968538</td><td>Preprocessor1_Model5</td></tr>\n",
       "</tbody>\n",
       "</table>\n"
      ],
      "text/latex": [
       "A tibble: 5 × 7\n",
       "\\begin{tabular}{lllllll}\n",
       " neighbors & .metric & .estimator & mean & n & std\\_err & .config\\\\\n",
       " <int> & <chr> & <chr> & <dbl> & <int> & <dbl> & <chr>\\\\\n",
       "\\hline\n",
       "\t 2 & accuracy & binary & 0.8322581 & 4 & 0.012069863 & Preprocessor1\\_Model1\\\\\n",
       "\t 3 & accuracy & binary & 0.8661290 & 4 & 0.006650170 & Preprocessor1\\_Model2\\\\\n",
       "\t 4 & accuracy & binary & 0.8645161 & 4 & 0.006968538 & Preprocessor1\\_Model3\\\\\n",
       "\t 5 & accuracy & binary & 0.8725806 & 4 & 0.006650170 & Preprocessor1\\_Model4\\\\\n",
       "\t 6 & accuracy & binary & 0.8709677 & 4 & 0.006968538 & Preprocessor1\\_Model5\\\\\n",
       "\\end{tabular}\n"
      ],
      "text/markdown": [
       "\n",
       "A tibble: 5 × 7\n",
       "\n",
       "| neighbors &lt;int&gt; | .metric &lt;chr&gt; | .estimator &lt;chr&gt; | mean &lt;dbl&gt; | n &lt;int&gt; | std_err &lt;dbl&gt; | .config &lt;chr&gt; |\n",
       "|---|---|---|---|---|---|---|\n",
       "| 2 | accuracy | binary | 0.8322581 | 4 | 0.012069863 | Preprocessor1_Model1 |\n",
       "| 3 | accuracy | binary | 0.8661290 | 4 | 0.006650170 | Preprocessor1_Model2 |\n",
       "| 4 | accuracy | binary | 0.8645161 | 4 | 0.006968538 | Preprocessor1_Model3 |\n",
       "| 5 | accuracy | binary | 0.8725806 | 4 | 0.006650170 | Preprocessor1_Model4 |\n",
       "| 6 | accuracy | binary | 0.8709677 | 4 | 0.006968538 | Preprocessor1_Model5 |\n",
       "\n"
      ],
      "text/plain": [
       "  neighbors .metric  .estimator mean      n std_err     .config             \n",
       "1 2         accuracy binary     0.8322581 4 0.012069863 Preprocessor1_Model1\n",
       "2 3         accuracy binary     0.8661290 4 0.006650170 Preprocessor1_Model2\n",
       "3 4         accuracy binary     0.8645161 4 0.006968538 Preprocessor1_Model3\n",
       "4 5         accuracy binary     0.8725806 4 0.006650170 Preprocessor1_Model4\n",
       "5 6         accuracy binary     0.8709677 4 0.006968538 Preprocessor1_Model5"
      ]
     },
     "metadata": {},
     "output_type": "display_data"
    }
   ],
   "source": [
    "accuracies"
   ]
  }
 ],
 "metadata": {
  "kernelspec": {
   "display_name": "R",
   "language": "R",
   "name": "ir"
  },
  "language_info": {
   "codemirror_mode": "r",
   "file_extension": ".r",
   "mimetype": "text/x-r-source",
   "name": "R",
   "pygments_lexer": "r",
   "version": "4.1.3"
  }
 },
 "nbformat": 4,
 "nbformat_minor": 5
}
